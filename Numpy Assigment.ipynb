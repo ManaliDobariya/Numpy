{
 "cells": [
  {
   "cell_type": "code",
   "execution_count": 1,
   "id": "6425546c",
   "metadata": {},
   "outputs": [],
   "source": [
    "import numpy as np\n",
    "import pandas as pd"
   ]
  },
  {
   "cell_type": "markdown",
   "id": "a677adc9",
   "metadata": {},
   "source": [
    "## Questions On Numpy Array"
   ]
  },
  {
   "cell_type": "markdown",
   "id": "cf972066",
   "metadata": {},
   "source": [
    "## 1.How to create an empty and a full Numpy array?"
   ]
  },
  {
   "cell_type": "code",
   "execution_count": 2,
   "id": "4292577d",
   "metadata": {},
   "outputs": [
    {
     "name": "stdout",
     "output_type": "stream",
     "text": [
      "-----Empty Array-----\n",
      "[[6.23042070e-307 4.67296746e-307 1.69121096e-306 3.22649121e-307]\n",
      " [1.69119330e-306 1.42419802e-306 1.78019082e-306 8.45584427e-307]\n",
      " [9.34598247e-307 1.69121231e-306 9.34605037e-307 1.42404727e-306]]\n",
      "\n",
      "-----Full Array----\n",
      "[[5 5 5 5]\n",
      " [5 5 5 5]\n",
      " [5 5 5 5]]\n"
     ]
    }
   ],
   "source": [
    "#Empty Array\n",
    "print(\"-----Empty Array-----\")\n",
    "empty_array_2d = np.empty((3, 4))\n",
    "print(empty_array_2d)\n",
    "print(\"\")\n",
    "\n",
    "#Full Array\n",
    "print(\"-----Full Array----\")\n",
    "full_array_2d = np.full((3, 4), 5)\n",
    "print(full_array_2d)"
   ]
  },
  {
   "cell_type": "markdown",
   "id": "ae973910",
   "metadata": {},
   "source": [
    "## 2.Create numpy array filled with all zero."
   ]
  },
  {
   "cell_type": "code",
   "execution_count": 3,
   "id": "90eb1bb1",
   "metadata": {
    "scrolled": true
   },
   "outputs": [
    {
     "name": "stdout",
     "output_type": "stream",
     "text": [
      "Matrix a : \n",
      " [[0 0 0]\n",
      " [0 0 0]\n",
      " [0 0 0]]\n",
      "\n",
      "Matrix b : \n",
      " [[0. 0. 0.]\n",
      " [0. 0. 0.]\n",
      " [0. 0. 0.]\n",
      " [0. 0. 0.]\n",
      " [0. 0. 0.]]\n"
     ]
    }
   ],
   "source": [
    "a = np.zeros([3,3], dtype = int) \n",
    "print(\"Matrix a : \\n\", a) \n",
    "\n",
    "b = np.zeros([5, 3]) \n",
    "print(\"\\nMatrix b : \\n\", b) "
   ]
  },
  {
   "cell_type": "markdown",
   "id": "bbe28730",
   "metadata": {},
   "source": [
    "## 3. Create numpy array with filled with all ones.\n"
   ]
  },
  {
   "cell_type": "code",
   "execution_count": 4,
   "id": "e3d69104",
   "metadata": {},
   "outputs": [
    {
     "name": "stdout",
     "output_type": "stream",
     "text": [
      "Matrix a: \n",
      " [[1 1 1]\n",
      " [1 1 1]\n",
      " [1 1 1]]\n"
     ]
    }
   ],
   "source": [
    "a = np.ones([3,3], dtype = int)\n",
    "print(\"Matrix a: \\n\", a)"
   ]
  },
  {
   "cell_type": "markdown",
   "id": "1d14630b",
   "metadata": {},
   "source": [
    "## 4. Checks whether numpy array containes specified row."
   ]
  },
  {
   "cell_type": "code",
   "execution_count": 5,
   "id": "2904baa0",
   "metadata": {},
   "outputs": [
    {
     "name": "stdout",
     "output_type": "stream",
     "text": [
      "[[1 2 3]\n",
      " [4 5 6]\n",
      " [7 8 9]]\n",
      "True\n"
     ]
    }
   ],
   "source": [
    "a = np.array([[1,2,3],\n",
    "             [4,5,6],\n",
    "              [7,8,9]])\n",
    "print(a)\n",
    "print([4,5,6] in a.tolist())\n"
   ]
  },
  {
   "cell_type": "markdown",
   "id": "c935aaba",
   "metadata": {},
   "source": [
    "## 5. How to remove row in numpy array that contains non-numeric value."
   ]
  },
  {
   "cell_type": "code",
   "execution_count": 6,
   "id": "eb734a7f",
   "metadata": {},
   "outputs": [
    {
     "name": "stdout",
     "output_type": "stream",
     "text": [
      "Given array:\n",
      "[[10.5 22.5  3.8]\n",
      " [41.   nan  nan]]\n",
      "\n",
      "Remove all rows containing non-numeric elements\n",
      "[[10.5 22.5  3.8]]\n"
     ]
    }
   ],
   "source": [
    "n_arr = np.array([[10.5, 22.5, 3.8],\n",
    "                  [41, np.nan, np.nan]])\n",
    "  \n",
    "print(\"Given array:\")\n",
    "print(n_arr)\n",
    "  \n",
    "print(\"\\nRemove all rows containing non-numeric elements\")\n",
    "print(n_arr[~np.isnan(n_arr).any(axis=1)])"
   ]
  },
  {
   "cell_type": "markdown",
   "id": "ff85ffc0",
   "metadata": {},
   "source": [
    "## 6. Remove Single-Dimensional entries from shapes of an array."
   ]
  },
  {
   "cell_type": "code",
   "execution_count": 7,
   "id": "481c0003",
   "metadata": {},
   "outputs": [
    {
     "name": "stdout",
     "output_type": "stream",
     "text": [
      "(3, 4)\n"
     ]
    }
   ],
   "source": [
    "x = np.zeros((3, 1, 4))\n",
    "print(np.squeeze(x).shape)"
   ]
  },
  {
   "cell_type": "markdown",
   "id": "038f04d5",
   "metadata": {},
   "source": [
    "## 7. Find the number of occurences of a sequence in numpy array."
   ]
  },
  {
   "cell_type": "code",
   "execution_count": 8,
   "id": "8a5a3b72",
   "metadata": {},
   "outputs": [
    {
     "name": "stdout",
     "output_type": "stream",
     "text": [
      "4\n"
     ]
    }
   ],
   "source": [
    "arr = np.array([[2, 8, 9, 4], \n",
    "                   [9, 4, 9, 4],\n",
    "                   [4, 5, 9, 7],\n",
    "                   [2, 9, 4, 3]])\n",
    "  \n",
    "# Counting sequence\n",
    "output = repr(arr).count(\"9, 4\")\n",
    "  \n",
    "# view output\n",
    "print(output)"
   ]
  },
  {
   "cell_type": "markdown",
   "id": "2597168e",
   "metadata": {},
   "source": [
    "## 8. Find the most frequent value in numpy array."
   ]
  },
  {
   "cell_type": "code",
   "execution_count": 9,
   "id": "37fd23db",
   "metadata": {},
   "outputs": [
    {
     "name": "stdout",
     "output_type": "stream",
     "text": [
      "Original array:\n",
      "[1 2 3 4 5 1 2 1 1 1]\n",
      "\n",
      "Most frequent value in the above array:\n",
      "1\n"
     ]
    }
   ],
   "source": [
    "x = np.array([1,2,3,4,5,1,2,1,1,1])\n",
    "print(\"Original array:\")\n",
    "print(x)\n",
    "  \n",
    "print(\"\\nMost frequent value in the above array:\")\n",
    "print(np.bincount(x).argmax())"
   ]
  },
  {
   "cell_type": "markdown",
   "id": "fb679bef",
   "metadata": {},
   "source": [
    "## 9. Combining a one and two dimensional numpy array."
   ]
  },
  {
   "cell_type": "code",
   "execution_count": 10,
   "id": "0a9e9c7c",
   "metadata": {},
   "outputs": [
    {
     "name": "stdout",
     "output_type": "stream",
     "text": [
      "One dimensional array:\n",
      "[0 1 2 3 4]\n",
      "\n",
      "Two dimensional array:\n",
      "[[0 1 2 3 4]\n",
      " [5 6 7 8 9]]\n",
      "0:0\n",
      "1:1\n",
      "2:2\n",
      "3:3\n",
      "4:4\n",
      "0:5\n",
      "1:6\n",
      "2:7\n",
      "3:8\n",
      "4:9\n"
     ]
    }
   ],
   "source": [
    "num_1d = np.arange(5)\n",
    "print(\"One dimensional array:\")\n",
    "print(num_1d)\n",
    "  \n",
    "num_2d = np.arange(10).reshape(2,5)\n",
    "print(\"\\nTwo dimensional array:\")\n",
    "print(num_2d)\n",
    "  \n",
    "# Combine 1-D and 2-D arrays and display \n",
    "# their elements using numpy.nditer() \n",
    "for a, b in np.nditer([num_1d, num_2d]):\n",
    "    print(\"%d:%d\" % (a, b),)"
   ]
  },
  {
   "cell_type": "markdown",
   "id": "53332bae",
   "metadata": {},
   "source": [
    "## 10. How to build an array of all combinations of two numpy array?"
   ]
  },
  {
   "cell_type": "code",
   "execution_count": 11,
   "id": "666c2502",
   "metadata": {},
   "outputs": [
    {
     "name": "stdout",
     "output_type": "stream",
     "text": [
      "Array-1\n",
      "[1 2]\n",
      "\n",
      "Array-2\n",
      "[4 6]\n",
      "\n",
      "Combine array:\n",
      "[[1 4]\n",
      " [1 6]\n",
      " [2 4]\n",
      " [2 6]]\n"
     ]
    }
   ],
   "source": [
    "array_1 = np.array([1, 2])\n",
    "array_2 = np.array([4, 6])\n",
    "  \n",
    "print(\"Array-1\")\n",
    "print(array_1)\n",
    "  \n",
    "print(\"\\nArray-2\")\n",
    "print(array_2)\n",
    "  \n",
    "comb_array = np.array(np.meshgrid(array_1, array_2)).T.reshape(-1, 2)\n",
    "  \n",
    "print(\"\\nCombine array:\")\n",
    "print(comb_array)"
   ]
  },
  {
   "cell_type": "markdown",
   "id": "9c2e99d7",
   "metadata": {},
   "source": [
    "# Numpy Array Operation"
   ]
  },
  {
   "cell_type": "markdown",
   "id": "79569cbb",
   "metadata": {},
   "source": [
    "## Function 1: np.concatenate"
   ]
  },
  {
   "cell_type": "code",
   "execution_count": 15,
   "id": "1378b926",
   "metadata": {},
   "outputs": [
    {
     "data": {
      "text/plain": [
       "array([[ 1.,  2.,  5.,  6.,  7.],\n",
       "       [ 3.,  4.,  8.,  9., 10.]])"
      ]
     },
     "execution_count": 15,
     "metadata": {},
     "output_type": "execute_result"
    }
   ],
   "source": [
    "#concatenate two array\n",
    "arr1 = [[1,2],\n",
    "       [3,4.]]\n",
    "arr2 = [[5,6,7],\n",
    "       [8,9,10]]\n",
    "np.concatenate((arr1,arr2), axis = 1)"
   ]
  },
  {
   "cell_type": "code",
   "execution_count": 16,
   "id": "72436f73",
   "metadata": {},
   "outputs": [
    {
     "name": "stdout",
     "output_type": "stream",
     "text": [
      "Shape of arr1: (2, 2)\n",
      "Shape of arr2: (2, 3)\n",
      "[[ 1.  2.  0.]\n",
      " [ 3.  4.  0.]\n",
      " [ 5.  6.  7.]\n",
      " [ 8.  9. 10.]]\n"
     ]
    }
   ],
   "source": [
    "#In this code, we first check the shape of both arrays. \n",
    "#Then, if arr1 has fewer columns than arr2, we add zeros to the right of arr1 to make them match in terms of columns. \n",
    "#After making the necessary adjustments, we concatenate them along the 0-axis.\n",
    "\n",
    "arr1 = np.array([[1, 2],\n",
    "                 [3, 4]])\n",
    "arr2 = np.array([[5, 6, 7],\n",
    "                 [8, 9, 10]])\n",
    "\n",
    "print(\"Shape of arr1:\", arr1.shape)\n",
    "print(\"Shape of arr2:\", arr2.shape)\n",
    "\n",
    "rows1, cols1 = arr1.shape\n",
    "rows2, cols2 = arr2.shape\n",
    "\n",
    "if cols1 < cols2:\n",
    "    arr1 = np.column_stack((arr1, np.zeros((rows1, cols2 - cols1))))\n",
    "\n",
    "result = np.concatenate((arr1, arr2), axis=0)\n",
    "\n",
    "print(result)"
   ]
  },
  {
   "cell_type": "markdown",
   "id": "f97ab1c2",
   "metadata": {},
   "source": [
    "## Function 2: np.split"
   ]
  },
  {
   "cell_type": "code",
   "execution_count": 22,
   "id": "6b740579",
   "metadata": {},
   "outputs": [
    {
     "name": "stdout",
     "output_type": "stream",
     "text": [
      "[1 2 3]\n",
      "[4 5 6]\n",
      "[ 7  8  9 10]\n"
     ]
    }
   ],
   "source": [
    "# Split an array into multiple sub-arrays.\n",
    "\n",
    "arr = np.array([1, 2, 3, 4, 5, 6, 7, 8, 9, 10])\n",
    "subarrays = np.split(arr, [3, 6])\n",
    "for subarray in subarrays:\n",
    "    print(subarray)"
   ]
  },
  {
   "cell_type": "code",
   "execution_count": 27,
   "id": "96b1ceb5",
   "metadata": {},
   "outputs": [
    {
     "name": "stdout",
     "output_type": "stream",
     "text": [
      "[1 2 3]\n",
      "[4 5 6]\n",
      "[ 7  8  9 10]\n"
     ]
    }
   ],
   "source": [
    "#In this modified code, we first check if all the split indices are within the valid range \n",
    "#(i.e., less than the length of the array) to ensure that the split is valid. \n",
    "#If the indices are valid, we proceed with the split and print the sub-arrays. \n",
    "#Otherwise, we print a message indicating that the split indices are invalid.\n",
    "\n",
    "arr = np.array([1, 2, 3, 4, 5, 6, 7, 8, 9, 10])\n",
    "split_indices = [3,6]\n",
    "if all(idx < len(arr) for idx in split_indices):\n",
    "    subarrays = np.split(arr, split_indices)\n",
    "    for subarray in subarrays:\n",
    "        print(subarray)\n",
    "else:\n",
    "    print(\"Invalid split indices\")"
   ]
  },
  {
   "cell_type": "markdown",
   "id": "fdf69723",
   "metadata": {},
   "source": [
    "## Function 3: np.add"
   ]
  },
  {
   "cell_type": "code",
   "execution_count": 28,
   "id": "9971d913",
   "metadata": {},
   "outputs": [
    {
     "name": "stdout",
     "output_type": "stream",
     "text": [
      "Array 1: [1 2 3]\n",
      "Array 2: [4 5 6]\n",
      "Result of element-wise addition: [5 7 9]\n"
     ]
    }
   ],
   "source": [
    "# Addition of two array(working)\n",
    "# Create two NumPy arrays\n",
    "array1 = np.array([1, 2, 3])\n",
    "array2 = np.array([4, 5, 6])\n",
    "\n",
    "# Use np.add to  element-wise addition\n",
    "result = np.add(array1, array2)\n",
    "\n",
    "print(\"Array 1:\", array1)\n",
    "print(\"Array 2:\", array2)\n",
    "print(\"Result of element-wise addition:\", result)"
   ]
  },
  {
   "cell_type": "code",
   "execution_count": 29,
   "id": "51ccdc94",
   "metadata": {},
   "outputs": [
    {
     "name": "stdout",
     "output_type": "stream",
     "text": [
      "Array 1: [1 2 3]\n",
      "Array 2: [4 5 0]\n",
      "Result of element-wise addition: [5 7 3]\n"
     ]
    }
   ],
   "source": [
    "# Addition of two array(breaking)\n",
    "\n",
    "# add two NumPy arrays, array1 and array2, that have different shapes. \n",
    "# This will result in a \"ValueError\" because NumPy's np.add function expects arrays to have compatible shapes for element-wise addition.\n",
    "\n",
    "# To fix this, you can either reshape or pad array2 to have the same shape as `array1. Here's one way to do it:\n",
    "\n",
    "array1 = np.array([1, 2, 3])\n",
    "array2 = np.array([4, 5])\n",
    "\n",
    "if array1.shape[0] > array2.shape[0]:\n",
    "    padding = array1.shape[0] - array2.shape[0]\n",
    "    array2 = np.pad(array2, (0, padding), 'constant', constant_values=0)\n",
    "\n",
    "result = np.add(array1, array2)\n",
    "\n",
    "print(\"Array 1:\", array1)\n",
    "print(\"Array 2:\", array2)\n",
    "print(\"Result of element-wise addition:\", result)"
   ]
  },
  {
   "cell_type": "code",
   "execution_count": null,
   "id": "5bb95380",
   "metadata": {},
   "outputs": [],
   "source": []
  },
  {
   "cell_type": "code",
   "execution_count": null,
   "id": "1343f3cc",
   "metadata": {},
   "outputs": [],
   "source": []
  }
 ],
 "metadata": {
  "kernelspec": {
   "display_name": "Python 3 (ipykernel)",
   "language": "python",
   "name": "python3"
  },
  "language_info": {
   "codemirror_mode": {
    "name": "ipython",
    "version": 3
   },
   "file_extension": ".py",
   "mimetype": "text/x-python",
   "name": "python",
   "nbconvert_exporter": "python",
   "pygments_lexer": "ipython3",
   "version": "3.10.9"
  }
 },
 "nbformat": 4,
 "nbformat_minor": 5
}
